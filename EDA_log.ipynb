{
  "nbformat": 4,
  "nbformat_minor": 0,
  "metadata": {
    "colab": {
      "provenance": [],
      "authorship_tag": "ABX9TyPxOlDLss3vFVwny0/i4qu5",
      "include_colab_link": true
    },
    "kernelspec": {
      "name": "python3",
      "display_name": "Python 3"
    },
    "language_info": {
      "name": "python"
    }
  },
  "cells": [
    {
      "cell_type": "markdown",
      "metadata": {
        "id": "view-in-github",
        "colab_type": "text"
      },
      "source": [
        "<a href=\"https://colab.research.google.com/github/rapu34/A1project/blob/main/EDA_log.ipynb\" target=\"_parent\"><img src=\"https://colab.research.google.com/assets/colab-badge.svg\" alt=\"Open In Colab\"/></a>"
      ]
    },
    {
      "cell_type": "code",
      "execution_count": null,
      "metadata": {
        "colab": {
          "base_uri": "https://localhost:8080/"
        },
        "id": "rjYBhIQaWvBu",
        "outputId": "b30cfddb-da7a-40c2-ed86-49772904dfd3"
      },
      "outputs": [
        {
          "output_type": "stream",
          "name": "stdout",
          "text": [
            "Mounted at /content/drive\n"
          ]
        }
      ],
      "source": [
        "from google.colab import drive\n",
        "drive.mount('/content/drive')"
      ]
    },
    {
      "cell_type": "code",
      "source": [
        "import pandas as pd\n",
        "import numpy as np\n",
        "import matplotlib.pyplot as plt\n",
        "\n",
        "import seaborn as sns\n",
        "from sklearn.preprocessing import LabelEncoder\n",
        "import lightgbm as lgb\n",
        "import gc"
      ],
      "metadata": {
        "id": "Xb0GHgTaaE_t"
      },
      "execution_count": null,
      "outputs": []
    },
    {
      "cell_type": "code",
      "source": [
        "log = pd.read_csv(\"/content/drive/MyDrive/A1project/log_csv.csv\", encoding='UTF8')"
      ],
      "metadata": {
        "id": "kzDdtavSZ3AT"
      },
      "execution_count": null,
      "outputs": []
    },
    {
      "cell_type": "code",
      "source": [
        "log.info()"
      ],
      "metadata": {
        "colab": {
          "base_uri": "https://localhost:8080/"
        },
        "id": "3WPgHNcvZ3IF",
        "outputId": "44a5ea89-05f1-483a-9a68-8a38b128e5e1"
      },
      "execution_count": null,
      "outputs": [
        {
          "output_type": "stream",
          "name": "stdout",
          "text": [
            "<class 'pandas.core.frame.DataFrame'>\n",
            "RangeIndex: 5659541 entries, 0 to 5659540\n",
            "Data columns (total 11 columns):\n",
            " #   Column           Dtype  \n",
            "---  ------           -----  \n",
            " 0   Unnamed: 0       int64  \n",
            " 1   uid              object \n",
            " 2   action_type      object \n",
            " 3   category1        object \n",
            " 4   category2        object \n",
            " 5   category3        object \n",
            " 6   collect_time     object \n",
            " 7   geoip_city_name  object \n",
            " 8   useragent_os     object \n",
            " 9   viewrate         float64\n",
            " 10  viewtime         int64  \n",
            "dtypes: float64(1), int64(2), object(8)\n",
            "memory usage: 475.0+ MB\n"
          ]
        }
      ]
    },
    {
      "cell_type": "code",
      "source": [
        "log.isnull().sum()"
      ],
      "metadata": {
        "colab": {
          "base_uri": "https://localhost:8080/"
        },
        "id": "z87wVqurZ7Qf",
        "outputId": "05d227f6-787f-482c-8364-e1ead8e6642d"
      },
      "execution_count": null,
      "outputs": [
        {
          "output_type": "execute_result",
          "data": {
            "text/plain": [
              "Unnamed: 0              0\n",
              "uid                186313\n",
              "action_type             0\n",
              "category1               0\n",
              "category2               0\n",
              "category3          780006\n",
              "collect_time            0\n",
              "geoip_city_name    417032\n",
              "useragent_os            0\n",
              "viewrate             2429\n",
              "viewtime                0\n",
              "dtype: int64"
            ]
          },
          "metadata": {},
          "execution_count": 6
        }
      ]
    },
    {
      "cell_type": "code",
      "source": [
        "log.info()"
      ],
      "metadata": {
        "colab": {
          "base_uri": "https://localhost:8080/"
        },
        "id": "q3v5ykmgZ7TZ",
        "outputId": "d4f46ffa-6efd-4bed-b6f7-34fc4ad79113"
      },
      "execution_count": null,
      "outputs": [
        {
          "output_type": "stream",
          "name": "stdout",
          "text": [
            "<class 'pandas.core.frame.DataFrame'>\n",
            "RangeIndex: 5659541 entries, 0 to 5659540\n",
            "Data columns (total 11 columns):\n",
            " #   Column           Dtype  \n",
            "---  ------           -----  \n",
            " 0   Unnamed: 0       int64  \n",
            " 1   uid              object \n",
            " 2   action_type      object \n",
            " 3   category1        object \n",
            " 4   category2        object \n",
            " 5   category3        object \n",
            " 6   collect_time     object \n",
            " 7   geoip_city_name  object \n",
            " 8   useragent_os     object \n",
            " 9   viewrate         float64\n",
            " 10  viewtime         int64  \n",
            "dtypes: float64(1), int64(2), object(8)\n",
            "memory usage: 475.0+ MB\n"
          ]
        }
      ]
    },
    {
      "cell_type": "code",
      "source": [
        "log = log.dropna(subset=['uid'])\n",
        "log"
      ],
      "metadata": {
        "colab": {
          "base_uri": "https://localhost:8080/",
          "height": 424
        },
        "id": "csQgI-fKZ7XD",
        "outputId": "e0c85857-9e41-4f1e-8cc8-674b56b4a2be"
      },
      "execution_count": null,
      "outputs": [
        {
          "output_type": "execute_result",
          "data": {
            "text/plain": [
              "         Unnamed: 0               uid action_type category1  category2  \\\n",
              "0                 0  avpKyWMn/xEADNlb        View      주방용품     그릇·홈세트   \n",
              "1                 1  0+5vEmGkOuAAB5j2      Basket       패브릭         매트   \n",
              "2                 2  r8DXy2OtSl8AAojG        View       패브릭     커튼·부자재   \n",
              "3                 3  dC9Fl2Ly9lcADrTn   Highlight     데코·식물     플라워·식물   \n",
              "4                 4  09gKcGLg0I8ACyQy        View        가구     진열장·책장   \n",
              "...             ...               ...         ...       ...        ...   \n",
              "5659536     5659536  PUpxWWMWdcIACR2B        View      주방용품     칼·커팅기구   \n",
              "5659537     5659537  PVMstmNg4I4ADq9R      Basket        가구     진열장·책장   \n",
              "5659538     5659538  diRXdmN49dUABrVo        View        가구  테이블·식탁·책상   \n",
              "5659539     5659539  dusFzWJvp5cADhZW        View    가전·디지털       계절가전   \n",
              "5659540     5659540  bgy5ZGOszc4ADrmd        View        가구     화장대·콘솔   \n",
              "\n",
              "         category3         collect_time geoip_city_name useragent_os  \\\n",
              "0          식판·나눔접시  2022-12-29 17:29:02     Seongnam-si      Windows   \n",
              "1         주방·다용도매트  2022-12-29 12:56:38       Yongin-si      Windows   \n",
              "2             암막커튼  2022-12-29 17:11:30           Seoul          iOS   \n",
              "3            화병·화분  2022-12-29 17:54:30  Gwangmyeong-si      Windows   \n",
              "4               책장  2022-12-29 18:45:05       Jongno-gu     Mac OS X   \n",
              "...            ...                  ...             ...          ...   \n",
              "5659536  채칼·다지기·강판  2022-12-28 20:01:30           Seoul      Android   \n",
              "5659537         책장  2022-12-28 14:30:09           Jinju      Windows   \n",
              "5659538         식탁  2022-12-29 12:45:13           Gunpo      Android   \n",
              "5659539   전기히터·온풍기  2022-12-28 11:07:30           Seoul      Android   \n",
              "5659540      일반화장대  2022-12-29 08:14:39           Iksan          iOS   \n",
              "\n",
              "         viewrate  viewtime  \n",
              "0           100.0     80033  \n",
              "1             0.0         0  \n",
              "2           100.0       947  \n",
              "3             0.0         0  \n",
              "4           100.0      1238  \n",
              "...           ...       ...  \n",
              "5659536     100.0     13893  \n",
              "5659537       0.0         0  \n",
              "5659538     100.0     47217  \n",
              "5659539     100.0     54030  \n",
              "5659540       0.0         0  \n",
              "\n",
              "[5473228 rows x 11 columns]"
            ],
            "text/html": [
              "\n",
              "  <div id=\"df-462a1f5c-7005-4a79-9e8d-f3baf12521d9\">\n",
              "    <div class=\"colab-df-container\">\n",
              "      <div>\n",
              "<style scoped>\n",
              "    .dataframe tbody tr th:only-of-type {\n",
              "        vertical-align: middle;\n",
              "    }\n",
              "\n",
              "    .dataframe tbody tr th {\n",
              "        vertical-align: top;\n",
              "    }\n",
              "\n",
              "    .dataframe thead th {\n",
              "        text-align: right;\n",
              "    }\n",
              "</style>\n",
              "<table border=\"1\" class=\"dataframe\">\n",
              "  <thead>\n",
              "    <tr style=\"text-align: right;\">\n",
              "      <th></th>\n",
              "      <th>Unnamed: 0</th>\n",
              "      <th>uid</th>\n",
              "      <th>action_type</th>\n",
              "      <th>category1</th>\n",
              "      <th>category2</th>\n",
              "      <th>category3</th>\n",
              "      <th>collect_time</th>\n",
              "      <th>geoip_city_name</th>\n",
              "      <th>useragent_os</th>\n",
              "      <th>viewrate</th>\n",
              "      <th>viewtime</th>\n",
              "    </tr>\n",
              "  </thead>\n",
              "  <tbody>\n",
              "    <tr>\n",
              "      <th>0</th>\n",
              "      <td>0</td>\n",
              "      <td>avpKyWMn/xEADNlb</td>\n",
              "      <td>View</td>\n",
              "      <td>주방용품</td>\n",
              "      <td>그릇·홈세트</td>\n",
              "      <td>식판·나눔접시</td>\n",
              "      <td>2022-12-29 17:29:02</td>\n",
              "      <td>Seongnam-si</td>\n",
              "      <td>Windows</td>\n",
              "      <td>100.0</td>\n",
              "      <td>80033</td>\n",
              "    </tr>\n",
              "    <tr>\n",
              "      <th>1</th>\n",
              "      <td>1</td>\n",
              "      <td>0+5vEmGkOuAAB5j2</td>\n",
              "      <td>Basket</td>\n",
              "      <td>패브릭</td>\n",
              "      <td>매트</td>\n",
              "      <td>주방·다용도매트</td>\n",
              "      <td>2022-12-29 12:56:38</td>\n",
              "      <td>Yongin-si</td>\n",
              "      <td>Windows</td>\n",
              "      <td>0.0</td>\n",
              "      <td>0</td>\n",
              "    </tr>\n",
              "    <tr>\n",
              "      <th>2</th>\n",
              "      <td>2</td>\n",
              "      <td>r8DXy2OtSl8AAojG</td>\n",
              "      <td>View</td>\n",
              "      <td>패브릭</td>\n",
              "      <td>커튼·부자재</td>\n",
              "      <td>암막커튼</td>\n",
              "      <td>2022-12-29 17:11:30</td>\n",
              "      <td>Seoul</td>\n",
              "      <td>iOS</td>\n",
              "      <td>100.0</td>\n",
              "      <td>947</td>\n",
              "    </tr>\n",
              "    <tr>\n",
              "      <th>3</th>\n",
              "      <td>3</td>\n",
              "      <td>dC9Fl2Ly9lcADrTn</td>\n",
              "      <td>Highlight</td>\n",
              "      <td>데코·식물</td>\n",
              "      <td>플라워·식물</td>\n",
              "      <td>화병·화분</td>\n",
              "      <td>2022-12-29 17:54:30</td>\n",
              "      <td>Gwangmyeong-si</td>\n",
              "      <td>Windows</td>\n",
              "      <td>0.0</td>\n",
              "      <td>0</td>\n",
              "    </tr>\n",
              "    <tr>\n",
              "      <th>4</th>\n",
              "      <td>4</td>\n",
              "      <td>09gKcGLg0I8ACyQy</td>\n",
              "      <td>View</td>\n",
              "      <td>가구</td>\n",
              "      <td>진열장·책장</td>\n",
              "      <td>책장</td>\n",
              "      <td>2022-12-29 18:45:05</td>\n",
              "      <td>Jongno-gu</td>\n",
              "      <td>Mac OS X</td>\n",
              "      <td>100.0</td>\n",
              "      <td>1238</td>\n",
              "    </tr>\n",
              "    <tr>\n",
              "      <th>...</th>\n",
              "      <td>...</td>\n",
              "      <td>...</td>\n",
              "      <td>...</td>\n",
              "      <td>...</td>\n",
              "      <td>...</td>\n",
              "      <td>...</td>\n",
              "      <td>...</td>\n",
              "      <td>...</td>\n",
              "      <td>...</td>\n",
              "      <td>...</td>\n",
              "      <td>...</td>\n",
              "    </tr>\n",
              "    <tr>\n",
              "      <th>5659536</th>\n",
              "      <td>5659536</td>\n",
              "      <td>PUpxWWMWdcIACR2B</td>\n",
              "      <td>View</td>\n",
              "      <td>주방용품</td>\n",
              "      <td>칼·커팅기구</td>\n",
              "      <td>채칼·다지기·강판</td>\n",
              "      <td>2022-12-28 20:01:30</td>\n",
              "      <td>Seoul</td>\n",
              "      <td>Android</td>\n",
              "      <td>100.0</td>\n",
              "      <td>13893</td>\n",
              "    </tr>\n",
              "    <tr>\n",
              "      <th>5659537</th>\n",
              "      <td>5659537</td>\n",
              "      <td>PVMstmNg4I4ADq9R</td>\n",
              "      <td>Basket</td>\n",
              "      <td>가구</td>\n",
              "      <td>진열장·책장</td>\n",
              "      <td>책장</td>\n",
              "      <td>2022-12-28 14:30:09</td>\n",
              "      <td>Jinju</td>\n",
              "      <td>Windows</td>\n",
              "      <td>0.0</td>\n",
              "      <td>0</td>\n",
              "    </tr>\n",
              "    <tr>\n",
              "      <th>5659538</th>\n",
              "      <td>5659538</td>\n",
              "      <td>diRXdmN49dUABrVo</td>\n",
              "      <td>View</td>\n",
              "      <td>가구</td>\n",
              "      <td>테이블·식탁·책상</td>\n",
              "      <td>식탁</td>\n",
              "      <td>2022-12-29 12:45:13</td>\n",
              "      <td>Gunpo</td>\n",
              "      <td>Android</td>\n",
              "      <td>100.0</td>\n",
              "      <td>47217</td>\n",
              "    </tr>\n",
              "    <tr>\n",
              "      <th>5659539</th>\n",
              "      <td>5659539</td>\n",
              "      <td>dusFzWJvp5cADhZW</td>\n",
              "      <td>View</td>\n",
              "      <td>가전·디지털</td>\n",
              "      <td>계절가전</td>\n",
              "      <td>전기히터·온풍기</td>\n",
              "      <td>2022-12-28 11:07:30</td>\n",
              "      <td>Seoul</td>\n",
              "      <td>Android</td>\n",
              "      <td>100.0</td>\n",
              "      <td>54030</td>\n",
              "    </tr>\n",
              "    <tr>\n",
              "      <th>5659540</th>\n",
              "      <td>5659540</td>\n",
              "      <td>bgy5ZGOszc4ADrmd</td>\n",
              "      <td>View</td>\n",
              "      <td>가구</td>\n",
              "      <td>화장대·콘솔</td>\n",
              "      <td>일반화장대</td>\n",
              "      <td>2022-12-29 08:14:39</td>\n",
              "      <td>Iksan</td>\n",
              "      <td>iOS</td>\n",
              "      <td>0.0</td>\n",
              "      <td>0</td>\n",
              "    </tr>\n",
              "  </tbody>\n",
              "</table>\n",
              "<p>5473228 rows × 11 columns</p>\n",
              "</div>\n",
              "      <button class=\"colab-df-convert\" onclick=\"convertToInteractive('df-462a1f5c-7005-4a79-9e8d-f3baf12521d9')\"\n",
              "              title=\"Convert this dataframe to an interactive table.\"\n",
              "              style=\"display:none;\">\n",
              "        \n",
              "  <svg xmlns=\"http://www.w3.org/2000/svg\" height=\"24px\"viewBox=\"0 0 24 24\"\n",
              "       width=\"24px\">\n",
              "    <path d=\"M0 0h24v24H0V0z\" fill=\"none\"/>\n",
              "    <path d=\"M18.56 5.44l.94 2.06.94-2.06 2.06-.94-2.06-.94-.94-2.06-.94 2.06-2.06.94zm-11 1L8.5 8.5l.94-2.06 2.06-.94-2.06-.94L8.5 2.5l-.94 2.06-2.06.94zm10 10l.94 2.06.94-2.06 2.06-.94-2.06-.94-.94-2.06-.94 2.06-2.06.94z\"/><path d=\"M17.41 7.96l-1.37-1.37c-.4-.4-.92-.59-1.43-.59-.52 0-1.04.2-1.43.59L10.3 9.45l-7.72 7.72c-.78.78-.78 2.05 0 2.83L4 21.41c.39.39.9.59 1.41.59.51 0 1.02-.2 1.41-.59l7.78-7.78 2.81-2.81c.8-.78.8-2.07 0-2.86zM5.41 20L4 18.59l7.72-7.72 1.47 1.35L5.41 20z\"/>\n",
              "  </svg>\n",
              "      </button>\n",
              "      \n",
              "  <style>\n",
              "    .colab-df-container {\n",
              "      display:flex;\n",
              "      flex-wrap:wrap;\n",
              "      gap: 12px;\n",
              "    }\n",
              "\n",
              "    .colab-df-convert {\n",
              "      background-color: #E8F0FE;\n",
              "      border: none;\n",
              "      border-radius: 50%;\n",
              "      cursor: pointer;\n",
              "      display: none;\n",
              "      fill: #1967D2;\n",
              "      height: 32px;\n",
              "      padding: 0 0 0 0;\n",
              "      width: 32px;\n",
              "    }\n",
              "\n",
              "    .colab-df-convert:hover {\n",
              "      background-color: #E2EBFA;\n",
              "      box-shadow: 0px 1px 2px rgba(60, 64, 67, 0.3), 0px 1px 3px 1px rgba(60, 64, 67, 0.15);\n",
              "      fill: #174EA6;\n",
              "    }\n",
              "\n",
              "    [theme=dark] .colab-df-convert {\n",
              "      background-color: #3B4455;\n",
              "      fill: #D2E3FC;\n",
              "    }\n",
              "\n",
              "    [theme=dark] .colab-df-convert:hover {\n",
              "      background-color: #434B5C;\n",
              "      box-shadow: 0px 1px 3px 1px rgba(0, 0, 0, 0.15);\n",
              "      filter: drop-shadow(0px 1px 2px rgba(0, 0, 0, 0.3));\n",
              "      fill: #FFFFFF;\n",
              "    }\n",
              "  </style>\n",
              "\n",
              "      <script>\n",
              "        const buttonEl =\n",
              "          document.querySelector('#df-462a1f5c-7005-4a79-9e8d-f3baf12521d9 button.colab-df-convert');\n",
              "        buttonEl.style.display =\n",
              "          google.colab.kernel.accessAllowed ? 'block' : 'none';\n",
              "\n",
              "        async function convertToInteractive(key) {\n",
              "          const element = document.querySelector('#df-462a1f5c-7005-4a79-9e8d-f3baf12521d9');\n",
              "          const dataTable =\n",
              "            await google.colab.kernel.invokeFunction('convertToInteractive',\n",
              "                                                     [key], {});\n",
              "          if (!dataTable) return;\n",
              "\n",
              "          const docLinkHtml = 'Like what you see? Visit the ' +\n",
              "            '<a target=\"_blank\" href=https://colab.research.google.com/notebooks/data_table.ipynb>data table notebook</a>'\n",
              "            + ' to learn more about interactive tables.';\n",
              "          element.innerHTML = '';\n",
              "          dataTable['output_type'] = 'display_data';\n",
              "          await google.colab.output.renderOutput(dataTable, element);\n",
              "          const docLink = document.createElement('div');\n",
              "          docLink.innerHTML = docLinkHtml;\n",
              "          element.appendChild(docLink);\n",
              "        }\n",
              "      </script>\n",
              "    </div>\n",
              "  </div>\n",
              "  "
            ]
          },
          "metadata": {},
          "execution_count": 8
        }
      ]
    },
    {
      "cell_type": "code",
      "source": [
        "log.isnull().sum()"
      ],
      "metadata": {
        "colab": {
          "base_uri": "https://localhost:8080/"
        },
        "id": "A68bSDbeZ7cO",
        "outputId": "8c724291-ec62-4540-f498-e07d6694affc"
      },
      "execution_count": null,
      "outputs": [
        {
          "output_type": "execute_result",
          "data": {
            "text/plain": [
              "Unnamed: 0              0\n",
              "uid                     0\n",
              "action_type             0\n",
              "category1               0\n",
              "category2               0\n",
              "category3          766812\n",
              "collect_time            0\n",
              "geoip_city_name    398912\n",
              "useragent_os            0\n",
              "viewrate             2375\n",
              "viewtime                0\n",
              "dtype: int64"
            ]
          },
          "metadata": {},
          "execution_count": 9
        }
      ]
    },
    {
      "cell_type": "code",
      "source": [
        "log.action_type.value_counts()"
      ],
      "metadata": {
        "colab": {
          "base_uri": "https://localhost:8080/"
        },
        "id": "FD-YPOrHbFo1",
        "outputId": "beefd79d-cd51-4e50-cf28-6c10431cb461"
      },
      "execution_count": null,
      "outputs": [
        {
          "output_type": "execute_result",
          "data": {
            "text/plain": [
              "View         4742714\n",
              "Highlight     443100\n",
              "Basket        166914\n",
              "Copy          100588\n",
              "SINF           19912\n",
              "Name: action_type, dtype: int64"
            ]
          },
          "metadata": {},
          "execution_count": 10
        }
      ]
    },
    {
      "cell_type": "code",
      "source": [
        "plt.figure(figsize = (12, 6))\n",
        "sns.histplot(data = log[['action_type'] ],  bins = 30,\n",
        "                         multiple = 'stack', palette = 'Set2')\n",
        "plt.show()"
      ],
      "metadata": {
        "id": "oZT7cTXEbbWs",
        "colab": {
          "base_uri": "https://localhost:8080/",
          "height": 739
        },
        "outputId": "45ba3f3f-d7b3-4e22-dc1b-d62fd2e448a9"
      },
      "execution_count": null,
      "outputs": [
        {
          "output_type": "error",
          "ename": "TypeError",
          "evalue": "ignored",
          "traceback": [
            "\u001b[0;31m---------------------------------------------------------------------------\u001b[0m",
            "\u001b[0;31mTypeError\u001b[0m                                 Traceback (most recent call last)",
            "\u001b[0;32m<ipython-input-15-17932c9b6cd3>\u001b[0m in \u001b[0;36m<module>\u001b[0;34m\u001b[0m\n\u001b[1;32m      1\u001b[0m \u001b[0mplt\u001b[0m\u001b[0;34m.\u001b[0m\u001b[0mfigure\u001b[0m\u001b[0;34m(\u001b[0m\u001b[0mfigsize\u001b[0m \u001b[0;34m=\u001b[0m \u001b[0;34m(\u001b[0m\u001b[0;36m12\u001b[0m\u001b[0;34m,\u001b[0m \u001b[0;36m6\u001b[0m\u001b[0;34m)\u001b[0m\u001b[0;34m)\u001b[0m\u001b[0;34m\u001b[0m\u001b[0;34m\u001b[0m\u001b[0m\n\u001b[0;32m----> 2\u001b[0;31m sns.histplot(data = log[['action_type'] ],  bins = 30,\n\u001b[0m\u001b[1;32m      3\u001b[0m                          multiple = 'stack', palette = 'Set2')\n\u001b[1;32m      4\u001b[0m \u001b[0mplt\u001b[0m\u001b[0;34m.\u001b[0m\u001b[0mshow\u001b[0m\u001b[0;34m(\u001b[0m\u001b[0;34m)\u001b[0m\u001b[0;34m\u001b[0m\u001b[0;34m\u001b[0m\u001b[0m\n",
            "\u001b[0;32m/usr/local/lib/python3.8/dist-packages/seaborn/distributions.py\u001b[0m in \u001b[0;36mhistplot\u001b[0;34m(data, x, y, hue, weights, stat, bins, binwidth, binrange, discrete, cumulative, common_bins, common_norm, multiple, element, fill, shrink, kde, kde_kws, line_kws, thresh, pthresh, pmax, cbar, cbar_ax, cbar_kws, palette, hue_order, hue_norm, color, log_scale, legend, ax, **kwargs)\u001b[0m\n\u001b[1;32m   1460\u001b[0m     \u001b[0;32mif\u001b[0m \u001b[0mp\u001b[0m\u001b[0;34m.\u001b[0m\u001b[0munivariate\u001b[0m\u001b[0;34m:\u001b[0m\u001b[0;34m\u001b[0m\u001b[0;34m\u001b[0m\u001b[0m\n\u001b[1;32m   1461\u001b[0m \u001b[0;34m\u001b[0m\u001b[0m\n\u001b[0;32m-> 1462\u001b[0;31m         p.plot_univariate_histogram(\n\u001b[0m\u001b[1;32m   1463\u001b[0m             \u001b[0mmultiple\u001b[0m\u001b[0;34m=\u001b[0m\u001b[0mmultiple\u001b[0m\u001b[0;34m,\u001b[0m\u001b[0;34m\u001b[0m\u001b[0;34m\u001b[0m\u001b[0m\n\u001b[1;32m   1464\u001b[0m             \u001b[0melement\u001b[0m\u001b[0;34m=\u001b[0m\u001b[0melement\u001b[0m\u001b[0;34m,\u001b[0m\u001b[0;34m\u001b[0m\u001b[0;34m\u001b[0m\u001b[0m\n",
            "\u001b[0;32m/usr/local/lib/python3.8/dist-packages/seaborn/distributions.py\u001b[0m in \u001b[0;36mplot_univariate_histogram\u001b[0;34m(self, multiple, element, fill, common_norm, common_bins, shrink, kde, kde_kws, color, legend, line_kws, estimate_kws, **plot_kws)\u001b[0m\n\u001b[1;32m    426\u001b[0m \u001b[0;34m\u001b[0m\u001b[0m\n\u001b[1;32m    427\u001b[0m         \u001b[0;31m# First pass through the data to compute the histograms\u001b[0m\u001b[0;34m\u001b[0m\u001b[0;34m\u001b[0m\u001b[0;34m\u001b[0m\u001b[0m\n\u001b[0;32m--> 428\u001b[0;31m         \u001b[0;32mfor\u001b[0m \u001b[0msub_vars\u001b[0m\u001b[0;34m,\u001b[0m \u001b[0msub_data\u001b[0m \u001b[0;32min\u001b[0m \u001b[0mself\u001b[0m\u001b[0;34m.\u001b[0m\u001b[0miter_data\u001b[0m\u001b[0;34m(\u001b[0m\u001b[0;34m\"hue\"\u001b[0m\u001b[0;34m,\u001b[0m \u001b[0mfrom_comp_data\u001b[0m\u001b[0;34m=\u001b[0m\u001b[0;32mTrue\u001b[0m\u001b[0;34m)\u001b[0m\u001b[0;34m:\u001b[0m\u001b[0;34m\u001b[0m\u001b[0;34m\u001b[0m\u001b[0m\n\u001b[0m\u001b[1;32m    429\u001b[0m \u001b[0;34m\u001b[0m\u001b[0m\n\u001b[1;32m    430\u001b[0m             \u001b[0;31m# Prepare the relevant data\u001b[0m\u001b[0;34m\u001b[0m\u001b[0;34m\u001b[0m\u001b[0;34m\u001b[0m\u001b[0m\n",
            "\u001b[0;32m/usr/local/lib/python3.8/dist-packages/seaborn/_core.py\u001b[0m in \u001b[0;36miter_data\u001b[0;34m(self, grouping_vars, reverse, from_comp_data)\u001b[0m\n\u001b[1;32m    995\u001b[0m                 \u001b[0mgrouping_keys\u001b[0m\u001b[0;34m.\u001b[0m\u001b[0mappend\u001b[0m\u001b[0;34m(\u001b[0m\u001b[0mself\u001b[0m\u001b[0;34m.\u001b[0m\u001b[0mvar_levels\u001b[0m\u001b[0;34m.\u001b[0m\u001b[0mget\u001b[0m\u001b[0;34m(\u001b[0m\u001b[0mvar\u001b[0m\u001b[0;34m,\u001b[0m \u001b[0;34m[\u001b[0m\u001b[0;34m]\u001b[0m\u001b[0;34m)\u001b[0m\u001b[0;34m)\u001b[0m\u001b[0;34m\u001b[0m\u001b[0;34m\u001b[0m\u001b[0m\n\u001b[1;32m    996\u001b[0m \u001b[0;34m\u001b[0m\u001b[0m\n\u001b[0;32m--> 997\u001b[0;31m             \u001b[0miter_keys\u001b[0m \u001b[0;34m=\u001b[0m \u001b[0mitertools\u001b[0m\u001b[0;34m.\u001b[0m\u001b[0mproduct\u001b[0m\u001b[0;34m(\u001b[0m\u001b[0;34m*\u001b[0m\u001b[0mgrouping_keys\u001b[0m\u001b[0;34m)\u001b[0m\u001b[0;34m\u001b[0m\u001b[0;34m\u001b[0m\u001b[0m\n\u001b[0m\u001b[1;32m    998\u001b[0m             \u001b[0;32mif\u001b[0m \u001b[0mreverse\u001b[0m\u001b[0;34m:\u001b[0m\u001b[0;34m\u001b[0m\u001b[0;34m\u001b[0m\u001b[0m\n\u001b[1;32m    999\u001b[0m                 \u001b[0miter_keys\u001b[0m \u001b[0;34m=\u001b[0m \u001b[0mreversed\u001b[0m\u001b[0;34m(\u001b[0m\u001b[0mlist\u001b[0m\u001b[0;34m(\u001b[0m\u001b[0miter_keys\u001b[0m\u001b[0;34m)\u001b[0m\u001b[0;34m)\u001b[0m\u001b[0;34m\u001b[0m\u001b[0;34m\u001b[0m\u001b[0m\n",
            "\u001b[0;31mTypeError\u001b[0m: 'NoneType' object is not iterable"
          ]
        },
        {
          "output_type": "display_data",
          "data": {
            "text/plain": [
              "<Figure size 864x432 with 1 Axes>"
            ],
            "image/png": "[encoded data removed]"
          },
          "metadata": {
            "needs_background": "light"
          }
        }
      ]
    },
    {
      "cell_type": "code",
      "source": [],
      "metadata": {
        "id": "flbEuHtGbcA4"
      },
      "execution_count": null,
      "outputs": []
    }
  ]
}