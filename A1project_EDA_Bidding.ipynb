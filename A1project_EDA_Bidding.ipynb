{
  "nbformat": 4,
  "nbformat_minor": 0,
  "metadata": {
    "colab": {
      "provenance": [],
      "authorship_tag": "ABX9TyNVXN2fWrBCeTdlscNm0H1k",
      "include_colab_link": true
    },
    "kernelspec": {
      "name": "python3",
      "display_name": "Python 3"
    },
    "language_info": {
      "name": "python"
    },
    "accelerator": "GPU",
    "gpuClass": "standard"
  },
  "cells": [
    {
      "cell_type": "markdown",
      "metadata": {
        "id": "view-in-github",
        "colab_type": "text"
      },
      "source": [
        "<a href=\"https://colab.research.google.com/github/rapu34/A1project/blob/main/A1project_EDA_Bidding.ipynb\" target=\"_parent\"><img src=\"https://colab.research.google.com/assets/colab-badge.svg\" alt=\"Open In Colab\"/></a>"
      ]
    },
    {
      "cell_type": "code",
      "execution_count": null,
      "metadata": {
        "id": "_UiCHyATWBWl"
      },
      "outputs": [],
      "source": [
        "import pandas as pd\n",
        "import numpy as np\n",
        "import matplotlib.pyplot as plt\n",
        "\n",
        "import seaborn as sns\n",
        "from sklearn.preprocessing import LabelEncoder\n",
        "import lightgbm as lgb\n",
        "import gc"
      ]
    },
    {
      "cell_type": "code",
      "source": [
        "!sudo apt-get install -y fonts-nanum\n",
        "!sudo fc-cache -fv\n",
        "!rm ~/.cache/matplotlib -rf"
      ],
      "metadata": {
        "colab": {
          "base_uri": "https://localhost:8080/"
        },
        "id": "EbTGbwOQLbMf",
        "outputId": "92ef95d3-1a65-4313-e275-4d012fd8c34e"
      },
      "execution_count": null,
      "outputs": [
        {
          "output_type": "stream",
          "name": "stdout",
          "text": [
            "Reading package lists... Done\n",
            "Building dependency tree       \n",
            "Reading state information... Done\n",
            "The following package was automatically installed and is no longer required:\n",
            "  libnvidia-common-460\n",
            "Use 'sudo apt autoremove' to remove it.\n",
            "The following NEW packages will be installed:\n",
            "  fonts-nanum\n",
            "0 upgraded, 1 newly installed, 0 to remove and 20 not upgraded.\n",
            "Need to get 9,604 kB of archives.\n",
            "After this operation, 29.5 MB of additional disk space will be used.\n",
            "Get:1 http://archive.ubuntu.com/ubuntu bionic/universe amd64 fonts-nanum all 20170925-1 [9,604 kB]\n",
            "Fetched 9,604 kB in 2s (3,843 kB/s)\n",
            "debconf: unable to initialize frontend: Dialog\n",
            "debconf: (No usable dialog-like program is installed, so the dialog based frontend cannot be used. at /usr/share/perl5/Debconf/FrontEnd/Dialog.pm line 76, <> line 1.)\n",
            "debconf: falling back to frontend: Readline\n",
            "debconf: unable to initialize frontend: Readline\n",
            "debconf: (This frontend requires a controlling tty.)\n",
            "debconf: falling back to frontend: Teletype\n",
            "dpkg-preconfigure: unable to re-open stdin: \n",
            "Selecting previously unselected package fonts-nanum.\n",
            "(Reading database ... 124016 files and directories currently installed.)\n",
            "Preparing to unpack .../fonts-nanum_20170925-1_all.deb ...\n",
            "Unpacking fonts-nanum (20170925-1) ...\n",
            "Setting up fonts-nanum (20170925-1) ...\n",
            "Processing triggers for fontconfig (2.12.6-0ubuntu2) ...\n",
            "/usr/share/fonts: caching, new cache contents: 0 fonts, 1 dirs\n",
            "/usr/share/fonts/truetype: caching, new cache contents: 0 fonts, 3 dirs\n",
            "/usr/share/fonts/truetype/humor-sans: caching, new cache contents: 1 fonts, 0 dirs\n",
            "/usr/share/fonts/truetype/liberation: caching, new cache contents: 16 fonts, 0 dirs\n",
            "/usr/share/fonts/truetype/nanum: caching, new cache contents: 10 fonts, 0 dirs\n",
            "/usr/local/share/fonts: caching, new cache contents: 0 fonts, 0 dirs\n",
            "/root/.local/share/fonts: skipping, no such directory\n",
            "/root/.fonts: skipping, no such directory\n",
            "/var/cache/fontconfig: cleaning cache directory\n",
            "/root/.cache/fontconfig: not cleaning non-existent cache directory\n",
            "/root/.fontconfig: not cleaning non-existent cache directory\n",
            "fc-cache: succeeded\n"
          ]
        }
      ]
    },
    {
      "cell_type": "code",
      "source": [
        "from google.colab import drive\n",
        "drive.mount('/content/drive')"
      ],
      "metadata": {
        "colab": {
          "base_uri": "https://localhost:8080/"
        },
        "id": "bKFgG8JxWkSZ",
        "outputId": "f0be589b-034a-4258-e489-82ee574b310a"
      },
      "execution_count": null,
      "outputs": [
        {
          "output_type": "stream",
          "name": "stdout",
          "text": [
            "Mounted at /content/drive\n"
          ]
        }
      ]
    },
    {
      "cell_type": "code",
      "source": [
        "bidding_result = pd.read_csv(\"/content/drive/MyDrive/A1project/bidding_result.csv\", encoding='UTF8')\n",
        "#log = pd.read_csv(\"/content/drive/MyDrive/A1project/log_csv.csv\", encoding='UTF8')"
      ],
      "metadata": {
        "id": "S3N181xhWkWO"
      },
      "execution_count": null,
      "outputs": []
    },
    {
      "cell_type": "code",
      "source": [
        "bidding_result.info()"
      ],
      "metadata": {
        "colab": {
          "base_uri": "https://localhost:8080/"
        },
        "id": "qz6gvBfMWkeI",
        "outputId": "bc8175af-e6de-428c-ea7c-e61491574f2e"
      },
      "execution_count": null,
      "outputs": [
        {
          "output_type": "stream",
          "name": "stdout",
          "text": [
            "<class 'pandas.core.frame.DataFrame'>\n",
            "RangeIndex: 1337088 entries, 0 to 1337087\n",
            "Data columns (total 14 columns):\n",
            " #   Column           Non-Null Count    Dtype  \n",
            "---  ------           --------------    -----  \n",
            " 0   index            1337088 non-null  int64  \n",
            " 1   Impression       1337088 non-null  int64  \n",
            " 2   Click            1337088 non-null  int64  \n",
            " 3   Cost             1337088 non-null  float64\n",
            " 4   Sum of AD rank   1337078 non-null  float64\n",
            " 5   Bid              1337088 non-null  int64  \n",
            " 6   Price(PC)        1337088 non-null  int64  \n",
            " 7   Price(Mobile)    1337088 non-null  int64  \n",
            " 8   Delivery Fee     1337088 non-null  int64  \n",
            " 9   Category Name 1  1337088 non-null  object \n",
            " 10  Category Name 2  1337088 non-null  object \n",
            " 11  Category Name 3  1331221 non-null  object \n",
            " 12  Category Name 4  930132 non-null   object \n",
            " 13  date             1337088 non-null  int64  \n",
            "dtypes: float64(2), int64(8), object(4)\n",
            "memory usage: 142.8+ MB\n"
          ]
        }
      ]
    },
    {
      "cell_type": "code",
      "source": [
        "bidding_result.isnull().sum()"
      ],
      "metadata": {
        "colab": {
          "base_uri": "https://localhost:8080/"
        },
        "id": "BAm0UZ2fkh5k",
        "outputId": "64de0293-ba40-4564-8c46-24744d63f251"
      },
      "execution_count": null,
      "outputs": [
        {
          "output_type": "execute_result",
          "data": {
            "text/plain": [
              "index                   0\n",
              "Impression              0\n",
              "Click                   0\n",
              "Cost                    0\n",
              "Sum of AD rank         10\n",
              "Bid                     0\n",
              "Price(PC)               0\n",
              "Price(Mobile)           0\n",
              "Delivery Fee            0\n",
              "Category Name 1         0\n",
              "Category Name 2         0\n",
              "Category Name 3      5867\n",
              "Category Name 4    406956\n",
              "date                    0\n",
              "dtype: int64"
            ]
          },
          "metadata": {},
          "execution_count": 6
        }
      ]
    },
    {
      "cell_type": "code",
      "source": [
        "#log.info()"
      ],
      "metadata": {
        "id": "nULY0OEVWkhE"
      },
      "execution_count": null,
      "outputs": []
    },
    {
      "cell_type": "code",
      "source": [
        "bidding_result.isnull().sum()"
      ],
      "metadata": {
        "colab": {
          "base_uri": "https://localhost:8080/"
        },
        "id": "VpOGzIu8kl6M",
        "outputId": "173a1229-4399-47c0-bfc1-286bf52ba9d6"
      },
      "execution_count": null,
      "outputs": [
        {
          "output_type": "execute_result",
          "data": {
            "text/plain": [
              "index                   0\n",
              "Impression              0\n",
              "Click                   0\n",
              "Cost                    0\n",
              "Sum of AD rank         10\n",
              "Bid                     0\n",
              "Price(PC)               0\n",
              "Price(Mobile)           0\n",
              "Delivery Fee            0\n",
              "Category Name 1         0\n",
              "Category Name 2         0\n",
              "Category Name 3      5867\n",
              "Category Name 4    406956\n",
              "date                    0\n",
              "dtype: int64"
            ]
          },
          "metadata": {},
          "execution_count": 8
        }
      ]
    },
    {
      "cell_type": "code",
      "source": [
        "bidding_result = bidding_result.dropna(subset=['Sum of AD rank'])\n",
        "bidding_result"
      ],
      "metadata": {
        "colab": {
          "base_uri": "https://localhost:8080/",
          "height": 520
        },
        "id": "deyCy4aQmeXA",
        "outputId": "1145e9ae-2003-4473-b390-6a6f9edfae3d"
      },
      "execution_count": null,
      "outputs": [
        {
          "output_type": "execute_result",
          "data": {
            "text/plain": [
              "           index  Impression  Click   Cost  Sum of AD rank  Bid  Price(PC)  \\\n",
              "0        3575092           3      0    0.0        3.000000   50     165900   \n",
              "1        3575637           6      0    0.0        3.333333   50      10900   \n",
              "2        4129259           7      0    0.0        8.000000   50     255000   \n",
              "3        4131479          36      3  150.0        4.416667  140     190000   \n",
              "4        4131482         224      0    0.0        5.696429   50     129000   \n",
              "...          ...         ...    ...    ...             ...  ...        ...   \n",
              "1337083  2566795           5      0    0.0       13.200000  500      19900   \n",
              "1337084  2566880           3      0    0.0       17.000000  500      23900   \n",
              "1337085  2566881           1      0    0.0        8.000000  500       2500   \n",
              "1337086  2566891           2      0    0.0        4.000000  500      21000   \n",
              "1337087  2566923          14      0    0.0       12.428571  500     128800   \n",
              "\n",
              "         Price(Mobile)  Delivery Fee Category Name 1 Category Name 2  \\\n",
              "0               165900             0         가구/인테리어            침실가구   \n",
              "1                10900             0         가구/인테리어          인테리어소품   \n",
              "2               255000            -1         가구/인테리어            거실가구   \n",
              "3               190000         20000         가구/인테리어        아동/주니어가구   \n",
              "4               129000             0         가구/인테리어        아동/주니어가구   \n",
              "...                ...           ...             ...             ...   \n",
              "1337083          19900             0         가구/인테리어          인테리어소품   \n",
              "1337084          23900          3000           생활/건강         문구/사무용품   \n",
              "1337085           2500          3000         가구/인테리어          인테리어소품   \n",
              "1337086          21000          3000           생활/건강         정원/원예용품   \n",
              "1337087         128800             0         가구/인테리어          인테리어소품   \n",
              "\n",
              "        Category Name 3 Category Name 4      date  \n",
              "0               장롱/붙박이장            드레스룸  20221031  \n",
              "1              아로마/캔들용품      아로마방향제/디퓨저  20221031  \n",
              "2                    소파           패브릭소파  20221031  \n",
              "3                책상의자세트             NaN  20221031  \n",
              "4                    책상             NaN  20221031  \n",
              "...                 ...             ...       ...  \n",
              "1337083        아로마/캔들용품      아로마방향제/디퓨저  20230103  \n",
              "1337084        이벤트/파티용품            데코용품  20230103  \n",
              "1337085          기타장식용품             NaN  20230103  \n",
              "1337086            화분받침             NaN  20230103  \n",
              "1337087              액자      퍼즐/그림/사진액자  20230103  \n",
              "\n",
              "[1337078 rows x 14 columns]"
            ],
            "text/html": [
              "\n",
              "  <div id=\"df-fc5ec096-fc60-4579-8eda-620fd7e52366\">\n",
              "    <div class=\"colab-df-container\">\n",
              "      <div>\n",
              "<style scoped>\n",
              "    .dataframe tbody tr th:only-of-type {\n",
              "        vertical-align: middle;\n",
              "    }\n",
              "\n",
              "    .dataframe tbody tr th {\n",
              "        vertical-align: top;\n",
              "    }\n",
              "\n",
              "    .dataframe thead th {\n",
              "        text-align: right;\n",
              "    }\n",
              "</style>\n",
              "<table border=\"1\" class=\"dataframe\">\n",
              "  <thead>\n",
              "    <tr style=\"text-align: right;\">\n",
              "      <th></th>\n",
              "      <th>index</th>\n",
              "      <th>Impression</th>\n",
              "      <th>Click</th>\n",
              "      <th>Cost</th>\n",
              "      <th>Sum of AD rank</th>\n",
              "      <th>Bid</th>\n",
              "      <th>Price(PC)</th>\n",
              "      <th>Price(Mobile)</th>\n",
              "      <th>Delivery Fee</th>\n",
              "      <th>Category Name 1</th>\n",
              "      <th>Category Name 2</th>\n",
              "      <th>Category Name 3</th>\n",
              "      <th>Category Name 4</th>\n",
              "      <th>date</th>\n",
              "    </tr>\n",
              "  </thead>\n",
              "  <tbody>\n",
              "    <tr>\n",
              "      <th>0</th>\n",
              "      <td>3575092</td>\n",
              "      <td>3</td>\n",
              "      <td>0</td>\n",
              "      <td>0.0</td>\n",
              "      <td>3.000000</td>\n",
              "      <td>50</td>\n",
              "      <td>165900</td>\n",
              "      <td>165900</td>\n",
              "      <td>0</td>\n",
              "      <td>가구/인테리어</td>\n",
              "      <td>침실가구</td>\n",
              "      <td>장롱/붙박이장</td>\n",
              "      <td>드레스룸</td>\n",
              "      <td>20221031</td>\n",
              "    </tr>\n",
              "    <tr>\n",
              "      <th>1</th>\n",
              "      <td>3575637</td>\n",
              "      <td>6</td>\n",
              "      <td>0</td>\n",
              "      <td>0.0</td>\n",
              "      <td>3.333333</td>\n",
              "      <td>50</td>\n",
              "      <td>10900</td>\n",
              "      <td>10900</td>\n",
              "      <td>0</td>\n",
              "      <td>가구/인테리어</td>\n",
              "      <td>인테리어소품</td>\n",
              "      <td>아로마/캔들용품</td>\n",
              "      <td>아로마방향제/디퓨저</td>\n",
              "      <td>20221031</td>\n",
              "    </tr>\n",
              "    <tr>\n",
              "      <th>2</th>\n",
              "      <td>4129259</td>\n",
              "      <td>7</td>\n",
              "      <td>0</td>\n",
              "      <td>0.0</td>\n",
              "      <td>8.000000</td>\n",
              "      <td>50</td>\n",
              "      <td>255000</td>\n",
              "      <td>255000</td>\n",
              "      <td>-1</td>\n",
              "      <td>가구/인테리어</td>\n",
              "      <td>거실가구</td>\n",
              "      <td>소파</td>\n",
              "      <td>패브릭소파</td>\n",
              "      <td>20221031</td>\n",
              "    </tr>\n",
              "    <tr>\n",
              "      <th>3</th>\n",
              "      <td>4131479</td>\n",
              "      <td>36</td>\n",
              "      <td>3</td>\n",
              "      <td>150.0</td>\n",
              "      <td>4.416667</td>\n",
              "      <td>140</td>\n",
              "      <td>190000</td>\n",
              "      <td>190000</td>\n",
              "      <td>20000</td>\n",
              "      <td>가구/인테리어</td>\n",
              "      <td>아동/주니어가구</td>\n",
              "      <td>책상의자세트</td>\n",
              "      <td>NaN</td>\n",
              "      <td>20221031</td>\n",
              "    </tr>\n",
              "    <tr>\n",
              "      <th>4</th>\n",
              "      <td>4131482</td>\n",
              "      <td>224</td>\n",
              "      <td>0</td>\n",
              "      <td>0.0</td>\n",
              "      <td>5.696429</td>\n",
              "      <td>50</td>\n",
              "      <td>129000</td>\n",
              "      <td>129000</td>\n",
              "      <td>0</td>\n",
              "      <td>가구/인테리어</td>\n",
              "      <td>아동/주니어가구</td>\n",
              "      <td>책상</td>\n",
              "      <td>NaN</td>\n",
              "      <td>20221031</td>\n",
              "    </tr>\n",
              "    <tr>\n",
              "      <th>...</th>\n",
              "      <td>...</td>\n",
              "      <td>...</td>\n",
              "      <td>...</td>\n",
              "      <td>...</td>\n",
              "      <td>...</td>\n",
              "      <td>...</td>\n",
              "      <td>...</td>\n",
              "      <td>...</td>\n",
              "      <td>...</td>\n",
              "      <td>...</td>\n",
              "      <td>...</td>\n",
              "      <td>...</td>\n",
              "      <td>...</td>\n",
              "      <td>...</td>\n",
              "    </tr>\n",
              "    <tr>\n",
              "      <th>1337083</th>\n",
              "      <td>2566795</td>\n",
              "      <td>5</td>\n",
              "      <td>0</td>\n",
              "      <td>0.0</td>\n",
              "      <td>13.200000</td>\n",
              "      <td>500</td>\n",
              "      <td>19900</td>\n",
              "      <td>19900</td>\n",
              "      <td>0</td>\n",
              "      <td>가구/인테리어</td>\n",
              "      <td>인테리어소품</td>\n",
              "      <td>아로마/캔들용품</td>\n",
              "      <td>아로마방향제/디퓨저</td>\n",
              "      <td>20230103</td>\n",
              "    </tr>\n",
              "    <tr>\n",
              "      <th>1337084</th>\n",
              "      <td>2566880</td>\n",
              "      <td>3</td>\n",
              "      <td>0</td>\n",
              "      <td>0.0</td>\n",
              "      <td>17.000000</td>\n",
              "      <td>500</td>\n",
              "      <td>23900</td>\n",
              "      <td>23900</td>\n",
              "      <td>3000</td>\n",
              "      <td>생활/건강</td>\n",
              "      <td>문구/사무용품</td>\n",
              "      <td>이벤트/파티용품</td>\n",
              "      <td>데코용품</td>\n",
              "      <td>20230103</td>\n",
              "    </tr>\n",
              "    <tr>\n",
              "      <th>1337085</th>\n",
              "      <td>2566881</td>\n",
              "      <td>1</td>\n",
              "      <td>0</td>\n",
              "      <td>0.0</td>\n",
              "      <td>8.000000</td>\n",
              "      <td>500</td>\n",
              "      <td>2500</td>\n",
              "      <td>2500</td>\n",
              "      <td>3000</td>\n",
              "      <td>가구/인테리어</td>\n",
              "      <td>인테리어소품</td>\n",
              "      <td>기타장식용품</td>\n",
              "      <td>NaN</td>\n",
              "      <td>20230103</td>\n",
              "    </tr>\n",
              "    <tr>\n",
              "      <th>1337086</th>\n",
              "      <td>2566891</td>\n",
              "      <td>2</td>\n",
              "      <td>0</td>\n",
              "      <td>0.0</td>\n",
              "      <td>4.000000</td>\n",
              "      <td>500</td>\n",
              "      <td>21000</td>\n",
              "      <td>21000</td>\n",
              "      <td>3000</td>\n",
              "      <td>생활/건강</td>\n",
              "      <td>정원/원예용품</td>\n",
              "      <td>화분받침</td>\n",
              "      <td>NaN</td>\n",
              "      <td>20230103</td>\n",
              "    </tr>\n",
              "    <tr>\n",
              "      <th>1337087</th>\n",
              "      <td>2566923</td>\n",
              "      <td>14</td>\n",
              "      <td>0</td>\n",
              "      <td>0.0</td>\n",
              "      <td>12.428571</td>\n",
              "      <td>500</td>\n",
              "      <td>128800</td>\n",
              "      <td>128800</td>\n",
              "      <td>0</td>\n",
              "      <td>가구/인테리어</td>\n",
              "      <td>인테리어소품</td>\n",
              "      <td>액자</td>\n",
              "      <td>퍼즐/그림/사진액자</td>\n",
              "      <td>20230103</td>\n",
              "    </tr>\n",
              "  </tbody>\n",
              "</table>\n",
              "<p>1337078 rows × 14 columns</p>\n",
              "</div>\n",
              "      <button class=\"colab-df-convert\" onclick=\"convertToInteractive('df-fc5ec096-fc60-4579-8eda-620fd7e52366')\"\n",
              "              title=\"Convert this dataframe to an interactive table.\"\n",
              "              style=\"display:none;\">\n",
              "        \n",
              "  <svg xmlns=\"http://www.w3.org/2000/svg\" height=\"24px\"viewBox=\"0 0 24 24\"\n",
              "       width=\"24px\">\n",
              "    <path d=\"M0 0h24v24H0V0z\" fill=\"none\"/>\n",
              "    <path d=\"M18.56 5.44l.94 2.06.94-2.06 2.06-.94-2.06-.94-.94-2.06-.94 2.06-2.06.94zm-11 1L8.5 8.5l.94-2.06 2.06-.94-2.06-.94L8.5 2.5l-.94 2.06-2.06.94zm10 10l.94 2.06.94-2.06 2.06-.94-2.06-.94-.94-2.06-.94 2.06-2.06.94z\"/><path d=\"M17.41 7.96l-1.37-1.37c-.4-.4-.92-.59-1.43-.59-.52 0-1.04.2-1.43.59L10.3 9.45l-7.72 7.72c-.78.78-.78 2.05 0 2.83L4 21.41c.39.39.9.59 1.41.59.51 0 1.02-.2 1.41-.59l7.78-7.78 2.81-2.81c.8-.78.8-2.07 0-2.86zM5.41 20L4 18.59l7.72-7.72 1.47 1.35L5.41 20z\"/>\n",
              "  </svg>\n",
              "      </button>\n",
              "      \n",
              "  <style>\n",
              "    .colab-df-container {\n",
              "      display:flex;\n",
              "      flex-wrap:wrap;\n",
              "      gap: 12px;\n",
              "    }\n",
              "\n",
              "    .colab-df-convert {\n",
              "      background-color: #E8F0FE;\n",
              "      border: none;\n",
              "      border-radius: 50%;\n",
              "      cursor: pointer;\n",
              "      display: none;\n",
              "      fill: #1967D2;\n",
              "      height: 32px;\n",
              "      padding: 0 0 0 0;\n",
              "      width: 32px;\n",
              "    }\n",
              "\n",
              "    .colab-df-convert:hover {\n",
              "      background-color: #E2EBFA;\n",
              "      box-shadow: 0px 1px 2px rgba(60, 64, 67, 0.3), 0px 1px 3px 1px rgba(60, 64, 67, 0.15);\n",
              "      fill: #174EA6;\n",
              "    }\n",
              "\n",
              "    [theme=dark] .colab-df-convert {\n",
              "      background-color: #3B4455;\n",
              "      fill: #D2E3FC;\n",
              "    }\n",
              "\n",
              "    [theme=dark] .colab-df-convert:hover {\n",
              "      background-color: #434B5C;\n",
              "      box-shadow: 0px 1px 3px 1px rgba(0, 0, 0, 0.15);\n",
              "      filter: drop-shadow(0px 1px 2px rgba(0, 0, 0, 0.3));\n",
              "      fill: #FFFFFF;\n",
              "    }\n",
              "  </style>\n",
              "\n",
              "      <script>\n",
              "        const buttonEl =\n",
              "          document.querySelector('#df-fc5ec096-fc60-4579-8eda-620fd7e52366 button.colab-df-convert');\n",
              "        buttonEl.style.display =\n",
              "          google.colab.kernel.accessAllowed ? 'block' : 'none';\n",
              "\n",
              "        async function convertToInteractive(key) {\n",
              "          const element = document.querySelector('#df-fc5ec096-fc60-4579-8eda-620fd7e52366');\n",
              "          const dataTable =\n",
              "            await google.colab.kernel.invokeFunction('convertToInteractive',\n",
              "                                                     [key], {});\n",
              "          if (!dataTable) return;\n",
              "\n",
              "          const docLinkHtml = 'Like what you see? Visit the ' +\n",
              "            '<a target=\"_blank\" href=https://colab.research.google.com/notebooks/data_table.ipynb>data table notebook</a>'\n",
              "            + ' to learn more about interactive tables.';\n",
              "          element.innerHTML = '';\n",
              "          dataTable['output_type'] = 'display_data';\n",
              "          await google.colab.output.renderOutput(dataTable, element);\n",
              "          const docLink = document.createElement('div');\n",
              "          docLink.innerHTML = docLinkHtml;\n",
              "          element.appendChild(docLink);\n",
              "        }\n",
              "      </script>\n",
              "    </div>\n",
              "  </div>\n",
              "  "
            ]
          },
          "metadata": {},
          "execution_count": 9
        }
      ]
    },
    {
      "cell_type": "code",
      "source": [
        "bidding_result.isnull().sum()"
      ],
      "metadata": {
        "colab": {
          "base_uri": "https://localhost:8080/"
        },
        "id": "W8ItPw8Ioo5l",
        "outputId": "3f429266-9281-44c8-bc5c-562d904dde49"
      },
      "execution_count": null,
      "outputs": [
        {
          "output_type": "execute_result",
          "data": {
            "text/plain": [
              "index                   0\n",
              "Impression              0\n",
              "Click                   0\n",
              "Cost                    0\n",
              "Sum of AD rank          0\n",
              "Bid                     0\n",
              "Price(PC)               0\n",
              "Price(Mobile)           0\n",
              "Delivery Fee            0\n",
              "Category Name 1         0\n",
              "Category Name 2         0\n",
              "Category Name 3      5867\n",
              "Category Name 4    406952\n",
              "date                    0\n",
              "dtype: int64"
            ]
          },
          "metadata": {},
          "execution_count": 10
        }
      ]
    },
    {
      "cell_type": "code",
      "source": [
        "plt.figure(figsize=(12,8))\n",
        "sns.histplot(data= bidding_result, x= \"Category Name 1\", y= \"Cost\")\n",
        "plt.show()"
      ],
      "metadata": {
        "colab": {
          "base_uri": "https://localhost:8080/",
          "height": 497
        },
        "id": "LQ-sIKvlWkj8",
        "outputId": "6f32d841-e04f-4317-be13-29f279490eea"
      },
      "execution_count": null,
      "outputs": [
        {
          "output_type": "display_data",
          "data": {
            "text/plain": [
              "<Figure size 864x576 with 1 Axes>"
            ],
            "image/png": "[encoded data removed]"
          },
          "metadata": {
            "needs_background": "light"
          }
        }
      ]
    },
    {
      "cell_type": "code",
      "source": [
        "plt.figure(figsize=(12,8))\n",
        "sns.histplot(data= bidding_result, x= \"Cost\", y= \"Category Name 1\")\n",
        "plt.show()"
      ],
      "metadata": {
        "colab": {
          "base_uri": "https://localhost:8080/",
          "height": 497
        },
        "id": "WDrLaSxcmD9k",
        "outputId": "40040aa8-0e5c-4ec1-ae8b-da20cca61cc7"
      },
      "execution_count": null,
      "outputs": [
        {
          "output_type": "display_data",
          "data": {
            "text/plain": [
              "<Figure size 864x576 with 1 Axes>"
            ],
            "image/png": "[encoded data removed]"
          },
          "metadata": {
            "needs_background": "light"
          }
        }
      ]
    },
    {
      "cell_type": "code",
      "source": [
        "#광고료가 제일 많이나온 상품은?\n"
      ],
      "metadata": {
        "id": "7M83dugyqt4L"
      },
      "execution_count": null,
      "outputs": []
    },
    {
      "cell_type": "code",
      "source": [
        "sns.boxplot(data=bidding_result, x=\"Cost\")"
      ],
      "metadata": {
        "id": "P2PlrMHTrjdC",
        "colab": {
          "base_uri": "https://localhost:8080/",
          "height": 297
        },
        "outputId": "22079d7d-5242-4524-8917-75d5d72694b4"
      },
      "execution_count": null,
      "outputs": [
        {
          "output_type": "execute_result",
          "data": {
            "text/plain": [
              "<matplotlib.axes._subplots.AxesSubplot at 0x7f1081c50970>"
            ]
          },
          "metadata": {},
          "execution_count": 15
        },
        {
          "output_type": "display_data",
          "data": {
            "text/plain": [
              "<Figure size 432x288 with 1 Axes>"
            ],
            "image/png": "[encoded data removed]"
          },
          "metadata": {
            "needs_background": "light"
          }
        }
      ]
    },
    {
      "cell_type": "code",
      "source": [
        "a = bidding_result.loc[bidding_result['Category Name 1'].isin(bidding_result['Category Name 1'].value_counts()[:5].index)]\n",
        "a"
      ],
      "metadata": {
        "id": "ImSYdiW6q9-t",
        "colab": {
          "base_uri": "https://localhost:8080/",
          "height": 520
        },
        "outputId": "0b50545b-0687-42a1-a558-c045c6331e68"
      },
      "execution_count": null,
      "outputs": [
        {
          "output_type": "execute_result",
          "data": {
            "text/plain": [
              "           index  Impression  Click   Cost  Sum of AD rank  Bid  Price(PC)  \\\n",
              "0        3575092           3      0    0.0        3.000000   50     165900   \n",
              "1        3575637           6      0    0.0        3.333333   50      10900   \n",
              "2        4129259           7      0    0.0        8.000000   50     255000   \n",
              "3        4131479          36      3  150.0        4.416667  140     190000   \n",
              "4        4131482         224      0    0.0        5.696429   50     129000   \n",
              "...          ...         ...    ...    ...             ...  ...        ...   \n",
              "1337083  2566795           5      0    0.0       13.200000  500      19900   \n",
              "1337084  2566880           3      0    0.0       17.000000  500      23900   \n",
              "1337085  2566881           1      0    0.0        8.000000  500       2500   \n",
              "1337086  2566891           2      0    0.0        4.000000  500      21000   \n",
              "1337087  2566923          14      0    0.0       12.428571  500     128800   \n",
              "\n",
              "         Price(Mobile)  Delivery Fee Category Name 1 Category Name 2  \\\n",
              "0               165900             0         가구/인테리어            침실가구   \n",
              "1                10900             0         가구/인테리어          인테리어소품   \n",
              "2               255000            -1         가구/인테리어            거실가구   \n",
              "3               190000         20000         가구/인테리어        아동/주니어가구   \n",
              "4               129000             0         가구/인테리어        아동/주니어가구   \n",
              "...                ...           ...             ...             ...   \n",
              "1337083          19900             0         가구/인테리어          인테리어소품   \n",
              "1337084          23900          3000           생활/건강         문구/사무용품   \n",
              "1337085           2500          3000         가구/인테리어          인테리어소품   \n",
              "1337086          21000          3000           생활/건강         정원/원예용품   \n",
              "1337087         128800             0         가구/인테리어          인테리어소품   \n",
              "\n",
              "        Category Name 3 Category Name 4      date  \n",
              "0               장롱/붙박이장            드레스룸  20221031  \n",
              "1              아로마/캔들용품      아로마방향제/디퓨저  20221031  \n",
              "2                    소파           패브릭소파  20221031  \n",
              "3                책상의자세트             NaN  20221031  \n",
              "4                    책상             NaN  20221031  \n",
              "...                 ...             ...       ...  \n",
              "1337083        아로마/캔들용품      아로마방향제/디퓨저  20230103  \n",
              "1337084        이벤트/파티용품            데코용품  20230103  \n",
              "1337085          기타장식용품             NaN  20230103  \n",
              "1337086            화분받침             NaN  20230103  \n",
              "1337087              액자      퍼즐/그림/사진액자  20230103  \n",
              "\n",
              "[1320468 rows x 14 columns]"
            ],
            "text/html": [
              "\n",
              "  <div id=\"df-150b0396-0f60-44b3-b7b2-80b54879e400\">\n",
              "    <div class=\"colab-df-container\">\n",
              "      <div>\n",
              "<style scoped>\n",
              "    .dataframe tbody tr th:only-of-type {\n",
              "        vertical-align: middle;\n",
              "    }\n",
              "\n",
              "    .dataframe tbody tr th {\n",
              "        vertical-align: top;\n",
              "    }\n",
              "\n",
              "    .dataframe thead th {\n",
              "        text-align: right;\n",
              "    }\n",
              "</style>\n",
              "<table border=\"1\" class=\"dataframe\">\n",
              "  <thead>\n",
              "    <tr style=\"text-align: right;\">\n",
              "      <th></th>\n",
              "      <th>index</th>\n",
              "      <th>Impression</th>\n",
              "      <th>Click</th>\n",
              "      <th>Cost</th>\n",
              "      <th>Sum of AD rank</th>\n",
              "      <th>Bid</th>\n",
              "      <th>Price(PC)</th>\n",
              "      <th>Price(Mobile)</th>\n",
              "      <th>Delivery Fee</th>\n",
              "      <th>Category Name 1</th>\n",
              "      <th>Category Name 2</th>\n",
              "      <th>Category Name 3</th>\n",
              "      <th>Category Name 4</th>\n",
              "      <th>date</th>\n",
              "    </tr>\n",
              "  </thead>\n",
              "  <tbody>\n",
              "    <tr>\n",
              "      <th>0</th>\n",
              "      <td>3575092</td>\n",
              "      <td>3</td>\n",
              "      <td>0</td>\n",
              "      <td>0.0</td>\n",
              "      <td>3.000000</td>\n",
              "      <td>50</td>\n",
              "      <td>165900</td>\n",
              "      <td>165900</td>\n",
              "      <td>0</td>\n",
              "      <td>가구/인테리어</td>\n",
              "      <td>침실가구</td>\n",
              "      <td>장롱/붙박이장</td>\n",
              "      <td>드레스룸</td>\n",
              "      <td>20221031</td>\n",
              "    </tr>\n",
              "    <tr>\n",
              "      <th>1</th>\n",
              "      <td>3575637</td>\n",
              "      <td>6</td>\n",
              "      <td>0</td>\n",
              "      <td>0.0</td>\n",
              "      <td>3.333333</td>\n",
              "      <td>50</td>\n",
              "      <td>10900</td>\n",
              "      <td>10900</td>\n",
              "      <td>0</td>\n",
              "      <td>가구/인테리어</td>\n",
              "      <td>인테리어소품</td>\n",
              "      <td>아로마/캔들용품</td>\n",
              "      <td>아로마방향제/디퓨저</td>\n",
              "      <td>20221031</td>\n",
              "    </tr>\n",
              "    <tr>\n",
              "      <th>2</th>\n",
              "      <td>4129259</td>\n",
              "      <td>7</td>\n",
              "      <td>0</td>\n",
              "      <td>0.0</td>\n",
              "      <td>8.000000</td>\n",
              "      <td>50</td>\n",
              "      <td>255000</td>\n",
              "      <td>255000</td>\n",
              "      <td>-1</td>\n",
              "      <td>가구/인테리어</td>\n",
              "      <td>거실가구</td>\n",
              "      <td>소파</td>\n",
              "      <td>패브릭소파</td>\n",
              "      <td>20221031</td>\n",
              "    </tr>\n",
              "    <tr>\n",
              "      <th>3</th>\n",
              "      <td>4131479</td>\n",
              "      <td>36</td>\n",
              "      <td>3</td>\n",
              "      <td>150.0</td>\n",
              "      <td>4.416667</td>\n",
              "      <td>140</td>\n",
              "      <td>190000</td>\n",
              "      <td>190000</td>\n",
              "      <td>20000</td>\n",
              "      <td>가구/인테리어</td>\n",
              "      <td>아동/주니어가구</td>\n",
              "      <td>책상의자세트</td>\n",
              "      <td>NaN</td>\n",
              "      <td>20221031</td>\n",
              "    </tr>\n",
              "    <tr>\n",
              "      <th>4</th>\n",
              "      <td>4131482</td>\n",
              "      <td>224</td>\n",
              "      <td>0</td>\n",
              "      <td>0.0</td>\n",
              "      <td>5.696429</td>\n",
              "      <td>50</td>\n",
              "      <td>129000</td>\n",
              "      <td>129000</td>\n",
              "      <td>0</td>\n",
              "      <td>가구/인테리어</td>\n",
              "      <td>아동/주니어가구</td>\n",
              "      <td>책상</td>\n",
              "      <td>NaN</td>\n",
              "      <td>20221031</td>\n",
              "    </tr>\n",
              "    <tr>\n",
              "      <th>...</th>\n",
              "      <td>...</td>\n",
              "      <td>...</td>\n",
              "      <td>...</td>\n",
              "      <td>...</td>\n",
              "      <td>...</td>\n",
              "      <td>...</td>\n",
              "      <td>...</td>\n",
              "      <td>...</td>\n",
              "      <td>...</td>\n",
              "      <td>...</td>\n",
              "      <td>...</td>\n",
              "      <td>...</td>\n",
              "      <td>...</td>\n",
              "      <td>...</td>\n",
              "    </tr>\n",
              "    <tr>\n",
              "      <th>1337083</th>\n",
              "      <td>2566795</td>\n",
              "      <td>5</td>\n",
              "      <td>0</td>\n",
              "      <td>0.0</td>\n",
              "      <td>13.200000</td>\n",
              "      <td>500</td>\n",
              "      <td>19900</td>\n",
              "      <td>19900</td>\n",
              "      <td>0</td>\n",
              "      <td>가구/인테리어</td>\n",
              "      <td>인테리어소품</td>\n",
              "      <td>아로마/캔들용품</td>\n",
              "      <td>아로마방향제/디퓨저</td>\n",
              "      <td>20230103</td>\n",
              "    </tr>\n",
              "    <tr>\n",
              "      <th>1337084</th>\n",
              "      <td>2566880</td>\n",
              "      <td>3</td>\n",
              "      <td>0</td>\n",
              "      <td>0.0</td>\n",
              "      <td>17.000000</td>\n",
              "      <td>500</td>\n",
              "      <td>23900</td>\n",
              "      <td>23900</td>\n",
              "      <td>3000</td>\n",
              "      <td>생활/건강</td>\n",
              "      <td>문구/사무용품</td>\n",
              "      <td>이벤트/파티용품</td>\n",
              "      <td>데코용품</td>\n",
              "      <td>20230103</td>\n",
              "    </tr>\n",
              "    <tr>\n",
              "      <th>1337085</th>\n",
              "      <td>2566881</td>\n",
              "      <td>1</td>\n",
              "      <td>0</td>\n",
              "      <td>0.0</td>\n",
              "      <td>8.000000</td>\n",
              "      <td>500</td>\n",
              "      <td>2500</td>\n",
              "      <td>2500</td>\n",
              "      <td>3000</td>\n",
              "      <td>가구/인테리어</td>\n",
              "      <td>인테리어소품</td>\n",
              "      <td>기타장식용품</td>\n",
              "      <td>NaN</td>\n",
              "      <td>20230103</td>\n",
              "    </tr>\n",
              "    <tr>\n",
              "      <th>1337086</th>\n",
              "      <td>2566891</td>\n",
              "      <td>2</td>\n",
              "      <td>0</td>\n",
              "      <td>0.0</td>\n",
              "      <td>4.000000</td>\n",
              "      <td>500</td>\n",
              "      <td>21000</td>\n",
              "      <td>21000</td>\n",
              "      <td>3000</td>\n",
              "      <td>생활/건강</td>\n",
              "      <td>정원/원예용품</td>\n",
              "      <td>화분받침</td>\n",
              "      <td>NaN</td>\n",
              "      <td>20230103</td>\n",
              "    </tr>\n",
              "    <tr>\n",
              "      <th>1337087</th>\n",
              "      <td>2566923</td>\n",
              "      <td>14</td>\n",
              "      <td>0</td>\n",
              "      <td>0.0</td>\n",
              "      <td>12.428571</td>\n",
              "      <td>500</td>\n",
              "      <td>128800</td>\n",
              "      <td>128800</td>\n",
              "      <td>0</td>\n",
              "      <td>가구/인테리어</td>\n",
              "      <td>인테리어소품</td>\n",
              "      <td>액자</td>\n",
              "      <td>퍼즐/그림/사진액자</td>\n",
              "      <td>20230103</td>\n",
              "    </tr>\n",
              "  </tbody>\n",
              "</table>\n",
              "<p>1320468 rows × 14 columns</p>\n",
              "</div>\n",
              "      <button class=\"colab-df-convert\" onclick=\"convertToInteractive('df-150b0396-0f60-44b3-b7b2-80b54879e400')\"\n",
              "              title=\"Convert this dataframe to an interactive table.\"\n",
              "              style=\"display:none;\">\n",
              "        \n",
              "  <svg xmlns=\"http://www.w3.org/2000/svg\" height=\"24px\"viewBox=\"0 0 24 24\"\n",
              "       width=\"24px\">\n",
              "    <path d=\"M0 0h24v24H0V0z\" fill=\"none\"/>\n",
              "    <path d=\"M18.56 5.44l.94 2.06.94-2.06 2.06-.94-2.06-.94-.94-2.06-.94 2.06-2.06.94zm-11 1L8.5 8.5l.94-2.06 2.06-.94-2.06-.94L8.5 2.5l-.94 2.06-2.06.94zm10 10l.94 2.06.94-2.06 2.06-.94-2.06-.94-.94-2.06-.94 2.06-2.06.94z\"/><path d=\"M17.41 7.96l-1.37-1.37c-.4-.4-.92-.59-1.43-.59-.52 0-1.04.2-1.43.59L10.3 9.45l-7.72 7.72c-.78.78-.78 2.05 0 2.83L4 21.41c.39.39.9.59 1.41.59.51 0 1.02-.2 1.41-.59l7.78-7.78 2.81-2.81c.8-.78.8-2.07 0-2.86zM5.41 20L4 18.59l7.72-7.72 1.47 1.35L5.41 20z\"/>\n",
              "  </svg>\n",
              "      </button>\n",
              "      \n",
              "  <style>\n",
              "    .colab-df-container {\n",
              "      display:flex;\n",
              "      flex-wrap:wrap;\n",
              "      gap: 12px;\n",
              "    }\n",
              "\n",
              "    .colab-df-convert {\n",
              "      background-color: #E8F0FE;\n",
              "      border: none;\n",
              "      border-radius: 50%;\n",
              "      cursor: pointer;\n",
              "      display: none;\n",
              "      fill: #1967D2;\n",
              "      height: 32px;\n",
              "      padding: 0 0 0 0;\n",
              "      width: 32px;\n",
              "    }\n",
              "\n",
              "    .colab-df-convert:hover {\n",
              "      background-color: #E2EBFA;\n",
              "      box-shadow: 0px 1px 2px rgba(60, 64, 67, 0.3), 0px 1px 3px 1px rgba(60, 64, 67, 0.15);\n",
              "      fill: #174EA6;\n",
              "    }\n",
              "\n",
              "    [theme=dark] .colab-df-convert {\n",
              "      background-color: #3B4455;\n",
              "      fill: #D2E3FC;\n",
              "    }\n",
              "\n",
              "    [theme=dark] .colab-df-convert:hover {\n",
              "      background-color: #434B5C;\n",
              "      box-shadow: 0px 1px 3px 1px rgba(0, 0, 0, 0.15);\n",
              "      filter: drop-shadow(0px 1px 2px rgba(0, 0, 0, 0.3));\n",
              "      fill: #FFFFFF;\n",
              "    }\n",
              "  </style>\n",
              "\n",
              "      <script>\n",
              "        const buttonEl =\n",
              "          document.querySelector('#df-150b0396-0f60-44b3-b7b2-80b54879e400 button.colab-df-convert');\n",
              "        buttonEl.style.display =\n",
              "          google.colab.kernel.accessAllowed ? 'block' : 'none';\n",
              "\n",
              "        async function convertToInteractive(key) {\n",
              "          const element = document.querySelector('#df-150b0396-0f60-44b3-b7b2-80b54879e400');\n",
              "          const dataTable =\n",
              "            await google.colab.kernel.invokeFunction('convertToInteractive',\n",
              "                                                     [key], {});\n",
              "          if (!dataTable) return;\n",
              "\n",
              "          const docLinkHtml = 'Like what you see? Visit the ' +\n",
              "            '<a target=\"_blank\" href=https://colab.research.google.com/notebooks/data_table.ipynb>data table notebook</a>'\n",
              "            + ' to learn more about interactive tables.';\n",
              "          element.innerHTML = '';\n",
              "          dataTable['output_type'] = 'display_data';\n",
              "          await google.colab.output.renderOutput(dataTable, element);\n",
              "          const docLink = document.createElement('div');\n",
              "          docLink.innerHTML = docLinkHtml;\n",
              "          element.appendChild(docLink);\n",
              "        }\n",
              "      </script>\n",
              "    </div>\n",
              "  </div>\n",
              "  "
            ]
          },
          "metadata": {},
          "execution_count": 14
        }
      ]
    },
    {
      "cell_type": "code",
      "source": [
        "sns.set(rc = {'figure.figsize':(15,8)}, font =\"Malgun Gothic\", font_scale = 1)\n",
        "sns.heatmap(data = bidding_result.corr(), annot=True, linewidths=1)\n",
        "plt.rcParams['font.family'] = 'NanumGothic'\n",
        "plt.rcParams['font.family'] = 'Malgun Gothic' # cost & click 상관관계 매우 높음/cost impression/click impression/click cost"
      ],
      "metadata": {
        "id": "fo1I6uZBq-Ar",
        "colab": {
          "base_uri": "https://localhost:8080/",
          "height": 602
        },
        "outputId": "a6b97993-9081-494a-8e07-e4f68a888b65"
      },
      "execution_count": null,
      "outputs": [
        {
          "output_type": "stream",
          "name": "stderr",
          "text": [
            "WARNING:matplotlib.font_manager:findfont: Font family ['Malgun Gothic'] not found. Falling back to DejaVu Sans.\n",
            "WARNING:matplotlib.font_manager:findfont: Font family ['Malgun Gothic'] not found. Falling back to DejaVu Sans.\n"
          ]
        },
        {
          "output_type": "display_data",
          "data": {
            "text/plain": [
              "<Figure size 1080x576 with 2 Axes>"
            ],
            "image/png": "[encoded data removed]"
          },
          "metadata": {}
        }
      ]
    },
    {
      "cell_type": "code",
      "source": [
        "bidding_result.Click.value_counts()"
      ],
      "metadata": {
        "colab": {
          "base_uri": "https://localhost:8080/"
        },
        "id": "hpLj5nisRqho",
        "outputId": "4ac4eecb-c942-4f70-9af9-025b3555bd33"
      },
      "execution_count": null,
      "outputs": [
        {
          "output_type": "execute_result",
          "data": {
            "text/plain": [
              "0      1007240\n",
              "1       180549\n",
              "2        61235\n",
              "3        28678\n",
              "4        16125\n",
              "        ...   \n",
              "195          1\n",
              "240          1\n",
              "257          1\n",
              "177          1\n",
              "455          1\n",
              "Name: Click, Length: 189, dtype: int64"
            ]
          },
          "metadata": {},
          "execution_count": 19
        }
      ]
    },
    {
      "cell_type": "code",
      "source": [
        "plt.figure(figsize = (20, 6))\n",
        "sns.lineplot(data = bidding_result, y = 'Click' , x = 'Sum of AD rank' )\n"
      ],
      "metadata": {
        "colab": {
          "base_uri": "https://localhost:8080/",
          "height": 412
        },
        "id": "ToB4Jp1AU1Lh",
        "outputId": "7146abac-ff8f-4ea2-d711-486238740138"
      },
      "execution_count": null,
      "outputs": [
        {
          "output_type": "execute_result",
          "data": {
            "text/plain": [
              "<matplotlib.axes._subplots.AxesSubplot at 0x7f3db7a8fa00>"
            ]
          },
          "metadata": {},
          "execution_count": 22
        },
        {
          "output_type": "display_data",
          "data": {
            "text/plain": [
              "<Figure size 1440x432 with 1 Axes>"
            ],
            "image/png": "[encoded data removed]"
          },
          "metadata": {}
        }
      ]
    },
    {
      "cell_type": "code",
      "source": [
        "bidding_result.Cost.value_counts()"
      ],
      "metadata": {
        "colab": {
          "base_uri": "https://localhost:8080/"
        },
        "id": "9FcGk6l7UTXY",
        "outputId": "87cfb607-0b98-4806-a5dd-ea677ef541c3"
      },
      "execution_count": null,
      "outputs": [
        {
          "output_type": "execute_result",
          "data": {
            "text/plain": [
              "0.0        1007240\n",
              "50.0         65986\n",
              "100.0        22581\n",
              "150.0        12026\n",
              "200.0         8849\n",
              "            ...   \n",
              "26190.0          1\n",
              "42270.0          1\n",
              "10720.0          1\n",
              "46930.0          1\n",
              "10160.0          1\n",
              "Name: Cost, Length: 2406, dtype: int64"
            ]
          },
          "metadata": {},
          "execution_count": 21
        }
      ]
    },
    {
      "cell_type": "code",
      "source": [
        "bidding_result.Cost.value_counts()"
      ],
      "metadata": {
        "id": "r5MqoYYlVafi"
      },
      "execution_count": null,
      "outputs": []
    },
    {
      "cell_type": "code",
      "source": [
        "# 금액대 별 나눠서 어디에 몰려있는지 더 체크\n",
        "plt.figure(figsize = (20, 6))\n",
        "sns.lineplot(data = bidding_result, y = 'Cost' , x = 'Sum of AD rank' )\n",
        "# 1~5등사이에 몰려있다 -> "
      ],
      "metadata": {
        "id": "f3TdaM9Gq97W",
        "colab": {
          "base_uri": "https://localhost:8080/",
          "height": 297
        },
        "outputId": "62a07c28-d8db-4a8d-87b3-be8d10f78e6c"
      },
      "execution_count": null,
      "outputs": [
        {
          "output_type": "execute_result",
          "data": {
            "text/plain": [
              "<matplotlib.axes._subplots.AxesSubplot at 0x7f3db9cdbac0>"
            ]
          },
          "metadata": {},
          "execution_count": 16
        },
        {
          "output_type": "display_data",
          "data": {
            "text/plain": [
              "<Figure size 432x288 with 1 Axes>"
            ],
            "image/png": "[encoded data removed]"
          },
          "metadata": {
            "needs_background": "light"
          }
        }
      ]
    },
    {
      "cell_type": "code",
      "source": [],
      "metadata": {
        "id": "9HMULpE6s54E"
      },
      "execution_count": null,
      "outputs": []
    },
    {
      "cell_type": "code",
      "source": [
        "bidding_result[]"
      ],
      "metadata": {
        "id": "L31o_4L-dJg7"
      },
      "execution_count": null,
      "outputs": []
    },
    {
      "cell_type": "code",
      "source": [
        "minimum = bidding_result['Sum of AD rank'] == 1\n",
        "mimumcost = bidding_result['Cost'] <= 150\n",
        "subset_df = bidding_result[minimum & mimumcost]\n",
        "\n",
        "subset_df"
      ],
      "metadata": {
        "id": "onUT-Qf_h1w_",
        "colab": {
          "base_uri": "https://localhost:8080/",
          "height": 765
        },
        "outputId": "bcebc69a-4fa7-4a84-d35c-fde31a42d11e"
      },
      "execution_count": null,
      "outputs": [
        {
          "output_type": "execute_result",
          "data": {
            "text/plain": [
              "           index  Impression  Click   Cost  Sum of AD rank  Bid  Price(PC)  \\\n",
              "0        3575092           3      0    0.0               1   50     165900   \n",
              "1        3575637           6      0    0.0               1   50      10900   \n",
              "2        4129259           7      0    0.0               1   50     255000   \n",
              "3        4131479          36      3  150.0               1  140     190000   \n",
              "4        4131482         224      0    0.0               1   50     129000   \n",
              "...          ...         ...    ...    ...             ...  ...        ...   \n",
              "1337083  2566795           5      0    0.0               1  500      19900   \n",
              "1337084  2566880           3      0    0.0               1  500      23900   \n",
              "1337085  2566881           1      0    0.0               1  500       2500   \n",
              "1337086  2566891           2      0    0.0               1  500      21000   \n",
              "1337087  2566923          14      0    0.0               1  500     128800   \n",
              "\n",
              "         Price(Mobile)  Delivery Fee Category Name 1 Category Name 2  \\\n",
              "0               165900             0         가구/인테리어            침실가구   \n",
              "1                10900             0         가구/인테리어          인테리어소품   \n",
              "2               255000            -1         가구/인테리어            거실가구   \n",
              "3               190000         20000         가구/인테리어        아동/주니어가구   \n",
              "4               129000             0         가구/인테리어        아동/주니어가구   \n",
              "...                ...           ...             ...             ...   \n",
              "1337083          19900             0         가구/인테리어          인테리어소품   \n",
              "1337084          23900          3000           생활/건강         문구/사무용품   \n",
              "1337085           2500          3000         가구/인테리어          인테리어소품   \n",
              "1337086          21000          3000           생활/건강         정원/원예용품   \n",
              "1337087         128800             0         가구/인테리어          인테리어소품   \n",
              "\n",
              "        Category Name 3 Category Name 4      date  \n",
              "0               장롱/붙박이장            드레스룸  20221031  \n",
              "1              아로마/캔들용품      아로마방향제/디퓨저  20221031  \n",
              "2                    소파           패브릭소파  20221031  \n",
              "3                책상의자세트             NaN  20221031  \n",
              "4                    책상             NaN  20221031  \n",
              "...                 ...             ...       ...  \n",
              "1337083        아로마/캔들용품      아로마방향제/디퓨저  20230103  \n",
              "1337084        이벤트/파티용품            데코용품  20230103  \n",
              "1337085          기타장식용품             NaN  20230103  \n",
              "1337086            화분받침             NaN  20230103  \n",
              "1337087              액자      퍼즐/그림/사진액자  20230103  \n",
              "\n",
              "[1136027 rows x 14 columns]"
            ],
            "text/html": [
              "\n",
              "  <div id=\"df-f356485a-9aa7-40c7-ad86-d585895abfaa\">\n",
              "    <div class=\"colab-df-container\">\n",
              "      <div>\n",
              "<style scoped>\n",
              "    .dataframe tbody tr th:only-of-type {\n",
              "        vertical-align: middle;\n",
              "    }\n",
              "\n",
              "    .dataframe tbody tr th {\n",
              "        vertical-align: top;\n",
              "    }\n",
              "\n",
              "    .dataframe thead th {\n",
              "        text-align: right;\n",
              "    }\n",
              "</style>\n",
              "<table border=\"1\" class=\"dataframe\">\n",
              "  <thead>\n",
              "    <tr style=\"text-align: right;\">\n",
              "      <th></th>\n",
              "      <th>index</th>\n",
              "      <th>Impression</th>\n",
              "      <th>Click</th>\n",
              "      <th>Cost</th>\n",
              "      <th>Sum of AD rank</th>\n",
              "      <th>Bid</th>\n",
              "      <th>Price(PC)</th>\n",
              "      <th>Price(Mobile)</th>\n",
              "      <th>Delivery Fee</th>\n",
              "      <th>Category Name 1</th>\n",
              "      <th>Category Name 2</th>\n",
              "      <th>Category Name 3</th>\n",
              "      <th>Category Name 4</th>\n",
              "      <th>date</th>\n",
              "    </tr>\n",
              "  </thead>\n",
              "  <tbody>\n",
              "    <tr>\n",
              "      <th>0</th>\n",
              "      <td>3575092</td>\n",
              "      <td>3</td>\n",
              "      <td>0</td>\n",
              "      <td>0.0</td>\n",
              "      <td>1</td>\n",
              "      <td>50</td>\n",
              "      <td>165900</td>\n",
              "      <td>165900</td>\n",
              "      <td>0</td>\n",
              "      <td>가구/인테리어</td>\n",
              "      <td>침실가구</td>\n",
              "      <td>장롱/붙박이장</td>\n",
              "      <td>드레스룸</td>\n",
              "      <td>20221031</td>\n",
              "    </tr>\n",
              "    <tr>\n",
              "      <th>1</th>\n",
              "      <td>3575637</td>\n",
              "      <td>6</td>\n",
              "      <td>0</td>\n",
              "      <td>0.0</td>\n",
              "      <td>1</td>\n",
              "      <td>50</td>\n",
              "      <td>10900</td>\n",
              "      <td>10900</td>\n",
              "      <td>0</td>\n",
              "      <td>가구/인테리어</td>\n",
              "      <td>인테리어소품</td>\n",
              "      <td>아로마/캔들용품</td>\n",
              "      <td>아로마방향제/디퓨저</td>\n",
              "      <td>20221031</td>\n",
              "    </tr>\n",
              "    <tr>\n",
              "      <th>2</th>\n",
              "      <td>4129259</td>\n",
              "      <td>7</td>\n",
              "      <td>0</td>\n",
              "      <td>0.0</td>\n",
              "      <td>1</td>\n",
              "      <td>50</td>\n",
              "      <td>255000</td>\n",
              "      <td>255000</td>\n",
              "      <td>-1</td>\n",
              "      <td>가구/인테리어</td>\n",
              "      <td>거실가구</td>\n",
              "      <td>소파</td>\n",
              "      <td>패브릭소파</td>\n",
              "      <td>20221031</td>\n",
              "    </tr>\n",
              "    <tr>\n",
              "      <th>3</th>\n",
              "      <td>4131479</td>\n",
              "      <td>36</td>\n",
              "      <td>3</td>\n",
              "      <td>150.0</td>\n",
              "      <td>1</td>\n",
              "      <td>140</td>\n",
              "      <td>190000</td>\n",
              "      <td>190000</td>\n",
              "      <td>20000</td>\n",
              "      <td>가구/인테리어</td>\n",
              "      <td>아동/주니어가구</td>\n",
              "      <td>책상의자세트</td>\n",
              "      <td>NaN</td>\n",
              "      <td>20221031</td>\n",
              "    </tr>\n",
              "    <tr>\n",
              "      <th>4</th>\n",
              "      <td>4131482</td>\n",
              "      <td>224</td>\n",
              "      <td>0</td>\n",
              "      <td>0.0</td>\n",
              "      <td>1</td>\n",
              "      <td>50</td>\n",
              "      <td>129000</td>\n",
              "      <td>129000</td>\n",
              "      <td>0</td>\n",
              "      <td>가구/인테리어</td>\n",
              "      <td>아동/주니어가구</td>\n",
              "      <td>책상</td>\n",
              "      <td>NaN</td>\n",
              "      <td>20221031</td>\n",
              "    </tr>\n",
              "    <tr>\n",
              "      <th>...</th>\n",
              "      <td>...</td>\n",
              "      <td>...</td>\n",
              "      <td>...</td>\n",
              "      <td>...</td>\n",
              "      <td>...</td>\n",
              "      <td>...</td>\n",
              "      <td>...</td>\n",
              "      <td>...</td>\n",
              "      <td>...</td>\n",
              "      <td>...</td>\n",
              "      <td>...</td>\n",
              "      <td>...</td>\n",
              "      <td>...</td>\n",
              "      <td>...</td>\n",
              "    </tr>\n",
              "    <tr>\n",
              "      <th>1337083</th>\n",
              "      <td>2566795</td>\n",
              "      <td>5</td>\n",
              "      <td>0</td>\n",
              "      <td>0.0</td>\n",
              "      <td>1</td>\n",
              "      <td>500</td>\n",
              "      <td>19900</td>\n",
              "      <td>19900</td>\n",
              "      <td>0</td>\n",
              "      <td>가구/인테리어</td>\n",
              "      <td>인테리어소품</td>\n",
              "      <td>아로마/캔들용품</td>\n",
              "      <td>아로마방향제/디퓨저</td>\n",
              "      <td>20230103</td>\n",
              "    </tr>\n",
              "    <tr>\n",
              "      <th>1337084</th>\n",
              "      <td>2566880</td>\n",
              "      <td>3</td>\n",
              "      <td>0</td>\n",
              "      <td>0.0</td>\n",
              "      <td>1</td>\n",
              "      <td>500</td>\n",
              "      <td>23900</td>\n",
              "      <td>23900</td>\n",
              "      <td>3000</td>\n",
              "      <td>생활/건강</td>\n",
              "      <td>문구/사무용품</td>\n",
              "      <td>이벤트/파티용품</td>\n",
              "      <td>데코용품</td>\n",
              "      <td>20230103</td>\n",
              "    </tr>\n",
              "    <tr>\n",
              "      <th>1337085</th>\n",
              "      <td>2566881</td>\n",
              "      <td>1</td>\n",
              "      <td>0</td>\n",
              "      <td>0.0</td>\n",
              "      <td>1</td>\n",
              "      <td>500</td>\n",
              "      <td>2500</td>\n",
              "      <td>2500</td>\n",
              "      <td>3000</td>\n",
              "      <td>가구/인테리어</td>\n",
              "      <td>인테리어소품</td>\n",
              "      <td>기타장식용품</td>\n",
              "      <td>NaN</td>\n",
              "      <td>20230103</td>\n",
              "    </tr>\n",
              "    <tr>\n",
              "      <th>1337086</th>\n",
              "      <td>2566891</td>\n",
              "      <td>2</td>\n",
              "      <td>0</td>\n",
              "      <td>0.0</td>\n",
              "      <td>1</td>\n",
              "      <td>500</td>\n",
              "      <td>21000</td>\n",
              "      <td>21000</td>\n",
              "      <td>3000</td>\n",
              "      <td>생활/건강</td>\n",
              "      <td>정원/원예용품</td>\n",
              "      <td>화분받침</td>\n",
              "      <td>NaN</td>\n",
              "      <td>20230103</td>\n",
              "    </tr>\n",
              "    <tr>\n",
              "      <th>1337087</th>\n",
              "      <td>2566923</td>\n",
              "      <td>14</td>\n",
              "      <td>0</td>\n",
              "      <td>0.0</td>\n",
              "      <td>1</td>\n",
              "      <td>500</td>\n",
              "      <td>128800</td>\n",
              "      <td>128800</td>\n",
              "      <td>0</td>\n",
              "      <td>가구/인테리어</td>\n",
              "      <td>인테리어소품</td>\n",
              "      <td>액자</td>\n",
              "      <td>퍼즐/그림/사진액자</td>\n",
              "      <td>20230103</td>\n",
              "    </tr>\n",
              "  </tbody>\n",
              "</table>\n",
              "<p>1136027 rows × 14 columns</p>\n",
              "</div>\n",
              "      <button class=\"colab-df-convert\" onclick=\"convertToInteractive('df-f356485a-9aa7-40c7-ad86-d585895abfaa')\"\n",
              "              title=\"Convert this dataframe to an interactive table.\"\n",
              "              style=\"display:none;\">\n",
              "        \n",
              "  <svg xmlns=\"http://www.w3.org/2000/svg\" height=\"24px\"viewBox=\"0 0 24 24\"\n",
              "       width=\"24px\">\n",
              "    <path d=\"M0 0h24v24H0V0z\" fill=\"none\"/>\n",
              "    <path d=\"M18.56 5.44l.94 2.06.94-2.06 2.06-.94-2.06-.94-.94-2.06-.94 2.06-2.06.94zm-11 1L8.5 8.5l.94-2.06 2.06-.94-2.06-.94L8.5 2.5l-.94 2.06-2.06.94zm10 10l.94 2.06.94-2.06 2.06-.94-2.06-.94-.94-2.06-.94 2.06-2.06.94z\"/><path d=\"M17.41 7.96l-1.37-1.37c-.4-.4-.92-.59-1.43-.59-.52 0-1.04.2-1.43.59L10.3 9.45l-7.72 7.72c-.78.78-.78 2.05 0 2.83L4 21.41c.39.39.9.59 1.41.59.51 0 1.02-.2 1.41-.59l7.78-7.78 2.81-2.81c.8-.78.8-2.07 0-2.86zM5.41 20L4 18.59l7.72-7.72 1.47 1.35L5.41 20z\"/>\n",
              "  </svg>\n",
              "      </button>\n",
              "      \n",
              "  <style>\n",
              "    .colab-df-container {\n",
              "      display:flex;\n",
              "      flex-wrap:wrap;\n",
              "      gap: 12px;\n",
              "    }\n",
              "\n",
              "    .colab-df-convert {\n",
              "      background-color: #E8F0FE;\n",
              "      border: none;\n",
              "      border-radius: 50%;\n",
              "      cursor: pointer;\n",
              "      display: none;\n",
              "      fill: #1967D2;\n",
              "      height: 32px;\n",
              "      padding: 0 0 0 0;\n",
              "      width: 32px;\n",
              "    }\n",
              "\n",
              "    .colab-df-convert:hover {\n",
              "      background-color: #E2EBFA;\n",
              "      box-shadow: 0px 1px 2px rgba(60, 64, 67, 0.3), 0px 1px 3px 1px rgba(60, 64, 67, 0.15);\n",
              "      fill: #174EA6;\n",
              "    }\n",
              "\n",
              "    [theme=dark] .colab-df-convert {\n",
              "      background-color: #3B4455;\n",
              "      fill: #D2E3FC;\n",
              "    }\n",
              "\n",
              "    [theme=dark] .colab-df-convert:hover {\n",
              "      background-color: #434B5C;\n",
              "      box-shadow: 0px 1px 3px 1px rgba(0, 0, 0, 0.15);\n",
              "      filter: drop-shadow(0px 1px 2px rgba(0, 0, 0, 0.3));\n",
              "      fill: #FFFFFF;\n",
              "    }\n",
              "  </style>\n",
              "\n",
              "      <script>\n",
              "        const buttonEl =\n",
              "          document.querySelector('#df-f356485a-9aa7-40c7-ad86-d585895abfaa button.colab-df-convert');\n",
              "        buttonEl.style.display =\n",
              "          google.colab.kernel.accessAllowed ? 'block' : 'none';\n",
              "\n",
              "        async function convertToInteractive(key) {\n",
              "          const element = document.querySelector('#df-f356485a-9aa7-40c7-ad86-d585895abfaa');\n",
              "          const dataTable =\n",
              "            await google.colab.kernel.invokeFunction('convertToInteractive',\n",
              "                                                     [key], {});\n",
              "          if (!dataTable) return;\n",
              "\n",
              "          const docLinkHtml = 'Like what you see? Visit the ' +\n",
              "            '<a target=\"_blank\" href=https://colab.research.google.com/notebooks/data_table.ipynb>data table notebook</a>'\n",
              "            + ' to learn more about interactive tables.';\n",
              "          element.innerHTML = '';\n",
              "          dataTable['output_type'] = 'display_data';\n",
              "          await google.colab.output.renderOutput(dataTable, element);\n",
              "          const docLink = document.createElement('div');\n",
              "          docLink.innerHTML = docLinkHtml;\n",
              "          element.appendChild(docLink);\n",
              "        }\n",
              "      </script>\n",
              "    </div>\n",
              "  </div>\n",
              "  "
            ]
          },
          "metadata": {},
          "execution_count": 13
        }
      ]
    },
    {
      "cell_type": "code",
      "source": [
        "minimum = bidding_result['Sum of AD rank'] = 1\n",
        "minimum.min()"
      ],
      "metadata": {
        "colab": {
          "base_uri": "https://localhost:8080/"
        },
        "id": "T7HsKIEvebur",
        "outputId": "125bb3d7-d36c-4d77-ac33-791b559ac187"
      },
      "execution_count": null,
      "outputs": [
        {
          "output_type": "execute_result",
          "data": {
            "text/plain": [
              "True"
            ]
          },
          "metadata": {},
          "execution_count": 9
        }
      ]
    },
    {
      "cell_type": "code",
      "source": [],
      "metadata": {
        "id": "om_lmrqHenYs"
      },
      "execution_count": null,
      "outputs": []
    }
  ]
}